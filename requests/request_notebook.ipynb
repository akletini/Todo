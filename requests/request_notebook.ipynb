{
 "cells": [
  {
   "cell_type": "code",
   "execution_count": 1,
   "id": "52a7eed4-2f83-4707-934c-6b691afd0a2e",
   "metadata": {},
   "outputs": [],
   "source": [
    "import todo_requests as todo\n",
    "import json, requests"
   ]
  },
  {
   "cell_type": "code",
   "execution_count": 2,
   "id": "3f341256-805e-4f31-8685-064ef6b56595",
   "metadata": {},
   "outputs": [
    {
     "data": {
      "text/plain": [
       "'http://localhost:6001/todo/api/v1'"
      ]
     },
     "execution_count": 2,
     "metadata": {},
     "output_type": "execute_result"
    }
   ],
   "source": [
    "todo.request_path = \"http://localhost:6001/todo/api/v1\"\n",
    "todo.request_path"
   ]
  },
  {
   "cell_type": "code",
   "execution_count": null,
   "id": "5a69d955-949f-41ef-8d67-00279e04a0d9",
   "metadata": {},
   "outputs": [],
   "source": [
    "todo.get_all_todos()"
   ]
  },
  {
   "cell_type": "code",
   "execution_count": null,
   "id": "97c9512f-219f-46e0-b183-84d28c03483b",
   "metadata": {},
   "outputs": [],
   "source": [
    "todo.get_all_tags()"
   ]
  },
  {
   "cell_type": "code",
   "execution_count": 4,
   "id": "ca2021c6-2085-4f68-a71c-4da191b8f4a5",
   "metadata": {},
   "outputs": [],
   "source": [
    "todo.add_tags()"
   ]
  },
  {
   "cell_type": "code",
   "execution_count": 3,
   "id": "d25709af-542f-4cd8-92bf-d46dfd8521ec",
   "metadata": {},
   "outputs": [],
   "source": [
    "todo.add_todos()"
   ]
  },
  {
   "cell_type": "code",
   "execution_count": null,
   "id": "6e8d1b90-f7d5-4047-9001-0402f8455df8",
   "metadata": {},
   "outputs": [],
   "source": []
  }
 ],
 "metadata": {
  "interpreter": {
   "hash": "2e047b4f6ab1869b8c4ce2231ae22735c3cc377dfcbab30b7b57d4ad8c5dc42e"
  },
  "kernelspec": {
   "display_name": "Python 3.9.1 64-bit",
   "language": "python",
   "name": "python3"
  },
  "language_info": {
   "codemirror_mode": {
    "name": "ipython",
    "version": 3
   },
   "file_extension": ".py",
   "mimetype": "text/x-python",
   "name": "python",
   "nbconvert_exporter": "python",
   "pygments_lexer": "ipython3",
   "version": "3.9.1"
  }
 },
 "nbformat": 4,
 "nbformat_minor": 5
}
